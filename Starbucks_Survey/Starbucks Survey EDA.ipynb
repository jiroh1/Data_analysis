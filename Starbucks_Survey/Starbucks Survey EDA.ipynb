{
 "cells": [
  {
   "cell_type": "markdown",
   "metadata": {},
   "source": [
    "## 스타벅스 이벤트 관련 고객 설문 데이터\n",
    "\n",
    "- 스타벅스 고객들의 이벤트 관련 설문에 응답한 데이터의 일부입니다.\n",
    "\n",
    "\n",
    "- 해당 데이터에서 고객들이 이벤트에 대한 응답을 어떻게 하는지, 찾고 고객 프로모션 개선방안에 대한 인사이트를 찾습니다."
   ]
  },
  {
   "cell_type": "markdown",
   "metadata": {},
   "source": [
    "### 0. Data Description\n",
    "\n",
    "1. Profile table\n",
    "\n",
    "> profile 데이터는 설문에 참여한 스타벅스 회원에 관련된 정보가 담겨 있습니다.\n",
    "\n",
    "\n",
    "2. transcript\n",
    "\n",
    "> 이벤트에 참여한 실제 유저들의 응답이 기록되어 있습니다.\n",
    "\n",
    "\n",
    "3. portfoilo\n",
    "\n",
    "> 이벤트를 운영했던 내역에 관한 정보가 담겨 있습니다."
   ]
  },
  {
   "cell_type": "markdown",
   "metadata": {},
   "source": [
    "### 1. 라이브러리 및 데이터 로드\n",
    "\n",
    "- 분석에 필요한 데이터와, 라이브러리를 불러옵니다."
   ]
  },
  {
   "cell_type": "code",
   "execution_count": 3,
   "metadata": {},
   "outputs": [
    {
     "name": "stdout",
     "output_type": "stream",
     "text": [
      "Requirement already satisfied: pandas in /usr/local/Cellar/jupyterlab/3.0.16_1/libexec/lib/python3.9/site-packages (1.3.4)\n",
      "Requirement already satisfied: python-dateutil>=2.7.3 in /usr/local/Cellar/jupyterlab/3.0.16_1/libexec/lib/python3.9/site-packages (from pandas) (2.8.1)\n",
      "Requirement already satisfied: numpy>=1.17.3 in /usr/local/Cellar/jupyterlab/3.0.16_1/libexec/lib/python3.9/site-packages (from pandas) (1.21.4)\n",
      "Requirement already satisfied: pytz>=2017.3 in /usr/local/Cellar/jupyterlab/3.0.16_1/libexec/lib/python3.9/site-packages (from pandas) (2021.1)\n",
      "Requirement already satisfied: six>=1.5 in /usr/local/Cellar/jupyterlab/3.0.16_1/libexec/lib/python3.9/site-packages (from python-dateutil>=2.7.3->pandas) (1.16.0)\n",
      "\u001b[33mWARNING: You are using pip version 21.1.1; however, version 21.3.1 is available.\n",
      "You should consider upgrading via the '/usr/local/Cellar/jupyterlab/3.0.16_1/libexec/bin/python3.9 -m pip install --upgrade pip' command.\u001b[0m\n",
      "Note: you may need to restart the kernel to use updated packages.\n"
     ]
    }
   ],
   "source": [
    "pip install pandas"
   ]
  },
  {
   "cell_type": "code",
   "execution_count": 2,
   "metadata": {},
   "outputs": [],
   "source": [
    "# 데이터 분석 필수 라이브러리 4종 세트 불러오기\n",
    "import numpy as np\n",
    "import pandas as pd\n",
    "import seaborn as sns\n",
    "from matplotlib import pyplot as plt\n",
    "COLORS = sns.color_palette()"
   ]
  },
  {
   "cell_type": "code",
   "execution_count": 75,
   "metadata": {
    "id": "HWxv85KIpHhO"
   },
   "outputs": [],
   "source": [
    "# Starbucks Customer Data 폴더안에 있는 데이터 3개를 불러오기\n",
    "transcript = pd.read_csv('Starbucks_Customer_Data/transcript.csv')\n",
    "profile = pd.read_csv('Starbucks_Customer_Data/profile.csv',index_col='Unnamed: 0',parse_dates=True)\n",
    "portfolio = pd.read_csv('Starbucks_Customer_Data/portfolio.csv')"
   ]
  },
  {
   "cell_type": "markdown",
   "metadata": {},
   "source": [
    "### 2. 데이터 전처리\n",
    "\n",
    "- 결측치가 존재하는 데이터를 찾아서, 결측치를 처리해줍니다."
   ]
  },
  {
   "cell_type": "code",
   "execution_count": 4,
   "metadata": {},
   "outputs": [
    {
     "name": "stdout",
     "output_type": "stream",
     "text": [
      "<class 'pandas.core.frame.DataFrame'>\n",
      "RangeIndex: 306534 entries, 0 to 306533\n",
      "Data columns (total 5 columns):\n",
      " #   Column      Non-Null Count   Dtype \n",
      "---  ------      --------------   ----- \n",
      " 0   Unnamed: 0  306534 non-null  int64 \n",
      " 1   person      306534 non-null  object\n",
      " 2   event       306534 non-null  object\n",
      " 3   value       306534 non-null  object\n",
      " 4   time        306534 non-null  int64 \n",
      "dtypes: int64(2), object(3)\n",
      "memory usage: 11.7+ MB\n"
     ]
    },
    {
     "data": {
      "text/plain": [
       "Unnamed: 0    0\n",
       "person        0\n",
       "event         0\n",
       "value         0\n",
       "time          0\n",
       "dtype: int64"
      ]
     },
     "execution_count": 4,
     "metadata": {},
     "output_type": "execute_result"
    }
   ],
   "source": [
    "# 각 데이터에 결측치가 있는지 확인합니다.\n",
    "transcript.info()\n",
    "transcript.isnull().sum()"
   ]
  },
  {
   "cell_type": "code",
   "execution_count": 5,
   "metadata": {},
   "outputs": [
    {
     "name": "stdout",
     "output_type": "stream",
     "text": [
      "<class 'pandas.core.frame.DataFrame'>\n",
      "RangeIndex: 17000 entries, 0 to 16999\n",
      "Data columns (total 6 columns):\n",
      " #   Column            Non-Null Count  Dtype  \n",
      "---  ------            --------------  -----  \n",
      " 0   Unnamed: 0        17000 non-null  int64  \n",
      " 1   gender            14825 non-null  object \n",
      " 2   age               17000 non-null  int64  \n",
      " 3   id                17000 non-null  object \n",
      " 4   became_member_on  17000 non-null  int64  \n",
      " 5   income            14825 non-null  float64\n",
      "dtypes: float64(1), int64(3), object(2)\n",
      "memory usage: 797.0+ KB\n"
     ]
    },
    {
     "data": {
      "text/plain": [
       "Unnamed: 0             0\n",
       "gender              2175\n",
       "age                    0\n",
       "id                     0\n",
       "became_member_on       0\n",
       "income              2175\n",
       "dtype: int64"
      ]
     },
     "execution_count": 5,
     "metadata": {},
     "output_type": "execute_result"
    }
   ],
   "source": [
    "profile.info()\n",
    "profile.isnull().sum()"
   ]
  },
  {
   "cell_type": "code",
   "execution_count": 6,
   "metadata": {},
   "outputs": [
    {
     "name": "stdout",
     "output_type": "stream",
     "text": [
      "<class 'pandas.core.frame.DataFrame'>\n",
      "RangeIndex: 10 entries, 0 to 9\n",
      "Data columns (total 7 columns):\n",
      " #   Column      Non-Null Count  Dtype \n",
      "---  ------      --------------  ----- \n",
      " 0   Unnamed: 0  10 non-null     int64 \n",
      " 1   reward      10 non-null     int64 \n",
      " 2   channels    10 non-null     object\n",
      " 3   difficulty  10 non-null     int64 \n",
      " 4   duration    10 non-null     int64 \n",
      " 5   offer_type  10 non-null     object\n",
      " 6   id          10 non-null     object\n",
      "dtypes: int64(4), object(3)\n",
      "memory usage: 688.0+ bytes\n"
     ]
    },
    {
     "data": {
      "text/plain": [
       "Unnamed: 0    0\n",
       "reward        0\n",
       "channels      0\n",
       "difficulty    0\n",
       "duration      0\n",
       "offer_type    0\n",
       "id            0\n",
       "dtype: int64"
      ]
     },
     "execution_count": 6,
     "metadata": {},
     "output_type": "execute_result"
    }
   ],
   "source": [
    "portfolio.info()\n",
    "portfolio.isnull().sum()"
   ]
  },
  {
   "cell_type": "code",
   "execution_count": 7,
   "metadata": {},
   "outputs": [
    {
     "data": {
      "text/html": [
       "<div>\n",
       "<style scoped>\n",
       "    .dataframe tbody tr th:only-of-type {\n",
       "        vertical-align: middle;\n",
       "    }\n",
       "\n",
       "    .dataframe tbody tr th {\n",
       "        vertical-align: top;\n",
       "    }\n",
       "\n",
       "    .dataframe thead th {\n",
       "        text-align: right;\n",
       "    }\n",
       "</style>\n",
       "<table border=\"1\" class=\"dataframe\">\n",
       "  <thead>\n",
       "    <tr style=\"text-align: right;\">\n",
       "      <th></th>\n",
       "      <th>Unnamed: 0</th>\n",
       "      <th>person</th>\n",
       "      <th>event</th>\n",
       "      <th>value</th>\n",
       "      <th>time</th>\n",
       "    </tr>\n",
       "  </thead>\n",
       "  <tbody>\n",
       "    <tr>\n",
       "      <th>0</th>\n",
       "      <td>0</td>\n",
       "      <td>78afa995795e4d85b5d9ceeca43f5fef</td>\n",
       "      <td>offer received</td>\n",
       "      <td>{'offer id': '9b98b8c7a33c4b65b9aebfe6a799e6d9'}</td>\n",
       "      <td>0</td>\n",
       "    </tr>\n",
       "    <tr>\n",
       "      <th>1</th>\n",
       "      <td>1</td>\n",
       "      <td>a03223e636434f42ac4c3df47e8bac43</td>\n",
       "      <td>offer received</td>\n",
       "      <td>{'offer id': '0b1e1539f2cc45b7b9fa7c272da2e1d7'}</td>\n",
       "      <td>0</td>\n",
       "    </tr>\n",
       "    <tr>\n",
       "      <th>2</th>\n",
       "      <td>2</td>\n",
       "      <td>e2127556f4f64592b11af22de27a7932</td>\n",
       "      <td>offer received</td>\n",
       "      <td>{'offer id': '2906b810c7d4411798c6938adc9daaa5'}</td>\n",
       "      <td>0</td>\n",
       "    </tr>\n",
       "    <tr>\n",
       "      <th>3</th>\n",
       "      <td>3</td>\n",
       "      <td>8ec6ce2a7e7949b1bf142def7d0e0586</td>\n",
       "      <td>offer received</td>\n",
       "      <td>{'offer id': 'fafdcd668e3743c1bb461111dcafc2a4'}</td>\n",
       "      <td>0</td>\n",
       "    </tr>\n",
       "    <tr>\n",
       "      <th>4</th>\n",
       "      <td>4</td>\n",
       "      <td>68617ca6246f4fbc85e91a2a49552598</td>\n",
       "      <td>offer received</td>\n",
       "      <td>{'offer id': '4d5c57ea9a6940dd891ad53e9dbe8da0'}</td>\n",
       "      <td>0</td>\n",
       "    </tr>\n",
       "    <tr>\n",
       "      <th>...</th>\n",
       "      <td>...</td>\n",
       "      <td>...</td>\n",
       "      <td>...</td>\n",
       "      <td>...</td>\n",
       "      <td>...</td>\n",
       "    </tr>\n",
       "    <tr>\n",
       "      <th>306529</th>\n",
       "      <td>306529</td>\n",
       "      <td>b3a1272bc9904337b331bf348c3e8c17</td>\n",
       "      <td>transaction</td>\n",
       "      <td>{'amount': 1.5899999999999999}</td>\n",
       "      <td>714</td>\n",
       "    </tr>\n",
       "    <tr>\n",
       "      <th>306530</th>\n",
       "      <td>306530</td>\n",
       "      <td>68213b08d99a4ae1b0dcb72aebd9aa35</td>\n",
       "      <td>transaction</td>\n",
       "      <td>{'amount': 9.53}</td>\n",
       "      <td>714</td>\n",
       "    </tr>\n",
       "    <tr>\n",
       "      <th>306531</th>\n",
       "      <td>306531</td>\n",
       "      <td>a00058cf10334a308c68e7631c529907</td>\n",
       "      <td>transaction</td>\n",
       "      <td>{'amount': 3.61}</td>\n",
       "      <td>714</td>\n",
       "    </tr>\n",
       "    <tr>\n",
       "      <th>306532</th>\n",
       "      <td>306532</td>\n",
       "      <td>76ddbd6576844afe811f1a3c0fbb5bec</td>\n",
       "      <td>transaction</td>\n",
       "      <td>{'amount': 3.5300000000000002}</td>\n",
       "      <td>714</td>\n",
       "    </tr>\n",
       "    <tr>\n",
       "      <th>306533</th>\n",
       "      <td>306533</td>\n",
       "      <td>c02b10e8752c4d8e9b73f918558531f7</td>\n",
       "      <td>transaction</td>\n",
       "      <td>{'amount': 4.05}</td>\n",
       "      <td>714</td>\n",
       "    </tr>\n",
       "  </tbody>\n",
       "</table>\n",
       "<p>306534 rows × 5 columns</p>\n",
       "</div>"
      ],
      "text/plain": [
       "        Unnamed: 0                            person           event  \\\n",
       "0                0  78afa995795e4d85b5d9ceeca43f5fef  offer received   \n",
       "1                1  a03223e636434f42ac4c3df47e8bac43  offer received   \n",
       "2                2  e2127556f4f64592b11af22de27a7932  offer received   \n",
       "3                3  8ec6ce2a7e7949b1bf142def7d0e0586  offer received   \n",
       "4                4  68617ca6246f4fbc85e91a2a49552598  offer received   \n",
       "...            ...                               ...             ...   \n",
       "306529      306529  b3a1272bc9904337b331bf348c3e8c17     transaction   \n",
       "306530      306530  68213b08d99a4ae1b0dcb72aebd9aa35     transaction   \n",
       "306531      306531  a00058cf10334a308c68e7631c529907     transaction   \n",
       "306532      306532  76ddbd6576844afe811f1a3c0fbb5bec     transaction   \n",
       "306533      306533  c02b10e8752c4d8e9b73f918558531f7     transaction   \n",
       "\n",
       "                                                   value  time  \n",
       "0       {'offer id': '9b98b8c7a33c4b65b9aebfe6a799e6d9'}     0  \n",
       "1       {'offer id': '0b1e1539f2cc45b7b9fa7c272da2e1d7'}     0  \n",
       "2       {'offer id': '2906b810c7d4411798c6938adc9daaa5'}     0  \n",
       "3       {'offer id': 'fafdcd668e3743c1bb461111dcafc2a4'}     0  \n",
       "4       {'offer id': '4d5c57ea9a6940dd891ad53e9dbe8da0'}     0  \n",
       "...                                                  ...   ...  \n",
       "306529                    {'amount': 1.5899999999999999}   714  \n",
       "306530                                  {'amount': 9.53}   714  \n",
       "306531                                  {'amount': 3.61}   714  \n",
       "306532                    {'amount': 3.5300000000000002}   714  \n",
       "306533                                  {'amount': 4.05}   714  \n",
       "\n",
       "[306534 rows x 5 columns]"
      ]
     },
     "execution_count": 7,
     "metadata": {},
     "output_type": "execute_result"
    }
   ],
   "source": [
    "transcript"
   ]
  },
  {
   "cell_type": "code",
   "execution_count": 8,
   "metadata": {},
   "outputs": [
    {
     "data": {
      "text/html": [
       "<div>\n",
       "<style scoped>\n",
       "    .dataframe tbody tr th:only-of-type {\n",
       "        vertical-align: middle;\n",
       "    }\n",
       "\n",
       "    .dataframe tbody tr th {\n",
       "        vertical-align: top;\n",
       "    }\n",
       "\n",
       "    .dataframe thead th {\n",
       "        text-align: right;\n",
       "    }\n",
       "</style>\n",
       "<table border=\"1\" class=\"dataframe\">\n",
       "  <thead>\n",
       "    <tr style=\"text-align: right;\">\n",
       "      <th></th>\n",
       "      <th>Unnamed: 0</th>\n",
       "      <th>gender</th>\n",
       "      <th>age</th>\n",
       "      <th>id</th>\n",
       "      <th>became_member_on</th>\n",
       "      <th>income</th>\n",
       "    </tr>\n",
       "  </thead>\n",
       "  <tbody>\n",
       "    <tr>\n",
       "      <th>0</th>\n",
       "      <td>False</td>\n",
       "      <td>True</td>\n",
       "      <td>False</td>\n",
       "      <td>False</td>\n",
       "      <td>False</td>\n",
       "      <td>True</td>\n",
       "    </tr>\n",
       "    <tr>\n",
       "      <th>1</th>\n",
       "      <td>False</td>\n",
       "      <td>False</td>\n",
       "      <td>False</td>\n",
       "      <td>False</td>\n",
       "      <td>False</td>\n",
       "      <td>False</td>\n",
       "    </tr>\n",
       "    <tr>\n",
       "      <th>2</th>\n",
       "      <td>False</td>\n",
       "      <td>True</td>\n",
       "      <td>False</td>\n",
       "      <td>False</td>\n",
       "      <td>False</td>\n",
       "      <td>True</td>\n",
       "    </tr>\n",
       "    <tr>\n",
       "      <th>3</th>\n",
       "      <td>False</td>\n",
       "      <td>False</td>\n",
       "      <td>False</td>\n",
       "      <td>False</td>\n",
       "      <td>False</td>\n",
       "      <td>False</td>\n",
       "    </tr>\n",
       "    <tr>\n",
       "      <th>4</th>\n",
       "      <td>False</td>\n",
       "      <td>True</td>\n",
       "      <td>False</td>\n",
       "      <td>False</td>\n",
       "      <td>False</td>\n",
       "      <td>True</td>\n",
       "    </tr>\n",
       "    <tr>\n",
       "      <th>...</th>\n",
       "      <td>...</td>\n",
       "      <td>...</td>\n",
       "      <td>...</td>\n",
       "      <td>...</td>\n",
       "      <td>...</td>\n",
       "      <td>...</td>\n",
       "    </tr>\n",
       "    <tr>\n",
       "      <th>16995</th>\n",
       "      <td>False</td>\n",
       "      <td>False</td>\n",
       "      <td>False</td>\n",
       "      <td>False</td>\n",
       "      <td>False</td>\n",
       "      <td>False</td>\n",
       "    </tr>\n",
       "    <tr>\n",
       "      <th>16996</th>\n",
       "      <td>False</td>\n",
       "      <td>False</td>\n",
       "      <td>False</td>\n",
       "      <td>False</td>\n",
       "      <td>False</td>\n",
       "      <td>False</td>\n",
       "    </tr>\n",
       "    <tr>\n",
       "      <th>16997</th>\n",
       "      <td>False</td>\n",
       "      <td>False</td>\n",
       "      <td>False</td>\n",
       "      <td>False</td>\n",
       "      <td>False</td>\n",
       "      <td>False</td>\n",
       "    </tr>\n",
       "    <tr>\n",
       "      <th>16998</th>\n",
       "      <td>False</td>\n",
       "      <td>False</td>\n",
       "      <td>False</td>\n",
       "      <td>False</td>\n",
       "      <td>False</td>\n",
       "      <td>False</td>\n",
       "    </tr>\n",
       "    <tr>\n",
       "      <th>16999</th>\n",
       "      <td>False</td>\n",
       "      <td>False</td>\n",
       "      <td>False</td>\n",
       "      <td>False</td>\n",
       "      <td>False</td>\n",
       "      <td>False</td>\n",
       "    </tr>\n",
       "  </tbody>\n",
       "</table>\n",
       "<p>17000 rows × 6 columns</p>\n",
       "</div>"
      ],
      "text/plain": [
       "       Unnamed: 0  gender    age     id  became_member_on  income\n",
       "0           False    True  False  False             False    True\n",
       "1           False   False  False  False             False   False\n",
       "2           False    True  False  False             False    True\n",
       "3           False   False  False  False             False   False\n",
       "4           False    True  False  False             False    True\n",
       "...           ...     ...    ...    ...               ...     ...\n",
       "16995       False   False  False  False             False   False\n",
       "16996       False   False  False  False             False   False\n",
       "16997       False   False  False  False             False   False\n",
       "16998       False   False  False  False             False   False\n",
       "16999       False   False  False  False             False   False\n",
       "\n",
       "[17000 rows x 6 columns]"
      ]
     },
     "execution_count": 8,
     "metadata": {},
     "output_type": "execute_result"
    }
   ],
   "source": [
    "# 결측치를 포함하는 데이터들은 어떤 데이터들인지 확인합니다.\n",
    "profile.isnull()"
   ]
  },
  {
   "cell_type": "code",
   "execution_count": 9,
   "metadata": {},
   "outputs": [
    {
     "data": {
      "text/plain": [
       "14825"
      ]
     },
     "execution_count": 9,
     "metadata": {},
     "output_type": "execute_result"
    }
   ],
   "source": [
    "# 결측치를 처리해줍니다. # 평균과 같은 통계량으로 채워주거나, 버립니다.\n",
    "profile=profile[pd.notnull(profile['income'])]\n",
    "len(profile)"
   ]
  },
  {
   "cell_type": "markdown",
   "metadata": {},
   "source": [
    "### 3. profile 데이터 분석\n",
    "\n",
    "- 설문에 참여한 사람 중, 정상적인 데이터로 판단된 데이터에 대한 분석을 수행합니다.\n",
    "\n",
    "\n",
    "- 각 column마다 원하는 통계량을 찾은 뒤, 해당 통계량을 멋지게 시각화해 줄 plot을 seaborn에서 가져와 구현합니다."
   ]
  },
  {
   "cell_type": "code",
   "execution_count": 10,
   "metadata": {},
   "outputs": [
    {
     "name": "stdout",
     "output_type": "stream",
     "text": [
      "<class 'pandas.core.frame.DataFrame'>\n",
      "Int64Index: 14825 entries, 1 to 16999\n",
      "Data columns (total 6 columns):\n",
      " #   Column            Non-Null Count  Dtype         \n",
      "---  ------            --------------  -----         \n",
      " 0   Unnamed: 0        14825 non-null  int64         \n",
      " 1   gender            14825 non-null  object        \n",
      " 2   age               14825 non-null  int64         \n",
      " 3   id                14825 non-null  object        \n",
      " 4   became_member_on  14825 non-null  datetime64[ns]\n",
      " 5   income            14825 non-null  float64       \n",
      "dtypes: datetime64[ns](1), float64(1), int64(2), object(2)\n",
      "memory usage: 810.7+ KB\n"
     ]
    }
   ],
   "source": [
    "# profile의 became_member_on 데이터를 시간 정보로 변환해줍니다.\n",
    "profile.became_member_on = pd.to_datetime(profile.became_member_on.astype(str), format='%Y%m%d')\n",
    "profile.info()"
   ]
  },
  {
   "cell_type": "markdown",
   "metadata": {},
   "source": [
    "#### 성별에 관한 분석"
   ]
  },
  {
   "cell_type": "code",
   "execution_count": 11,
   "metadata": {},
   "outputs": [
    {
     "data": {
      "text/html": [
       "<div>\n",
       "<style scoped>\n",
       "    .dataframe tbody tr th:only-of-type {\n",
       "        vertical-align: middle;\n",
       "    }\n",
       "\n",
       "    .dataframe tbody tr th {\n",
       "        vertical-align: top;\n",
       "    }\n",
       "\n",
       "    .dataframe thead th {\n",
       "        text-align: right;\n",
       "    }\n",
       "</style>\n",
       "<table border=\"1\" class=\"dataframe\">\n",
       "  <thead>\n",
       "    <tr style=\"text-align: right;\">\n",
       "      <th></th>\n",
       "      <th>Unnamed: 0</th>\n",
       "      <th>gender</th>\n",
       "      <th>age</th>\n",
       "      <th>id</th>\n",
       "      <th>became_member_on</th>\n",
       "      <th>income</th>\n",
       "    </tr>\n",
       "  </thead>\n",
       "  <tbody>\n",
       "    <tr>\n",
       "      <th>1</th>\n",
       "      <td>1</td>\n",
       "      <td>F</td>\n",
       "      <td>55</td>\n",
       "      <td>0610b486422d4921ae7d2bf64640c50b</td>\n",
       "      <td>2017-07-15</td>\n",
       "      <td>112000.0</td>\n",
       "    </tr>\n",
       "    <tr>\n",
       "      <th>3</th>\n",
       "      <td>3</td>\n",
       "      <td>F</td>\n",
       "      <td>75</td>\n",
       "      <td>78afa995795e4d85b5d9ceeca43f5fef</td>\n",
       "      <td>2017-05-09</td>\n",
       "      <td>100000.0</td>\n",
       "    </tr>\n",
       "    <tr>\n",
       "      <th>5</th>\n",
       "      <td>5</td>\n",
       "      <td>M</td>\n",
       "      <td>68</td>\n",
       "      <td>e2127556f4f64592b11af22de27a7932</td>\n",
       "      <td>2018-04-26</td>\n",
       "      <td>70000.0</td>\n",
       "    </tr>\n",
       "    <tr>\n",
       "      <th>8</th>\n",
       "      <td>8</td>\n",
       "      <td>M</td>\n",
       "      <td>65</td>\n",
       "      <td>389bc3fa690240e798340f5a15918d5c</td>\n",
       "      <td>2018-02-09</td>\n",
       "      <td>53000.0</td>\n",
       "    </tr>\n",
       "    <tr>\n",
       "      <th>12</th>\n",
       "      <td>12</td>\n",
       "      <td>M</td>\n",
       "      <td>58</td>\n",
       "      <td>2eeac8d8feae4a8cad5a6af0499a211d</td>\n",
       "      <td>2017-11-11</td>\n",
       "      <td>51000.0</td>\n",
       "    </tr>\n",
       "    <tr>\n",
       "      <th>...</th>\n",
       "      <td>...</td>\n",
       "      <td>...</td>\n",
       "      <td>...</td>\n",
       "      <td>...</td>\n",
       "      <td>...</td>\n",
       "      <td>...</td>\n",
       "    </tr>\n",
       "    <tr>\n",
       "      <th>16995</th>\n",
       "      <td>16995</td>\n",
       "      <td>F</td>\n",
       "      <td>45</td>\n",
       "      <td>6d5f3a774f3d4714ab0c092238f3a1d7</td>\n",
       "      <td>2018-06-04</td>\n",
       "      <td>54000.0</td>\n",
       "    </tr>\n",
       "    <tr>\n",
       "      <th>16996</th>\n",
       "      <td>16996</td>\n",
       "      <td>M</td>\n",
       "      <td>61</td>\n",
       "      <td>2cb4f97358b841b9a9773a7aa05a9d77</td>\n",
       "      <td>2018-07-13</td>\n",
       "      <td>72000.0</td>\n",
       "    </tr>\n",
       "    <tr>\n",
       "      <th>16997</th>\n",
       "      <td>16997</td>\n",
       "      <td>M</td>\n",
       "      <td>49</td>\n",
       "      <td>01d26f638c274aa0b965d24cefe3183f</td>\n",
       "      <td>2017-01-26</td>\n",
       "      <td>73000.0</td>\n",
       "    </tr>\n",
       "    <tr>\n",
       "      <th>16998</th>\n",
       "      <td>16998</td>\n",
       "      <td>F</td>\n",
       "      <td>83</td>\n",
       "      <td>9dc1421481194dcd9400aec7c9ae6366</td>\n",
       "      <td>2016-03-07</td>\n",
       "      <td>50000.0</td>\n",
       "    </tr>\n",
       "    <tr>\n",
       "      <th>16999</th>\n",
       "      <td>16999</td>\n",
       "      <td>F</td>\n",
       "      <td>62</td>\n",
       "      <td>e4052622e5ba45a8b96b59aba68cf068</td>\n",
       "      <td>2017-07-22</td>\n",
       "      <td>82000.0</td>\n",
       "    </tr>\n",
       "  </tbody>\n",
       "</table>\n",
       "<p>14825 rows × 6 columns</p>\n",
       "</div>"
      ],
      "text/plain": [
       "       Unnamed: 0 gender  age                                id  \\\n",
       "1               1      F   55  0610b486422d4921ae7d2bf64640c50b   \n",
       "3               3      F   75  78afa995795e4d85b5d9ceeca43f5fef   \n",
       "5               5      M   68  e2127556f4f64592b11af22de27a7932   \n",
       "8               8      M   65  389bc3fa690240e798340f5a15918d5c   \n",
       "12             12      M   58  2eeac8d8feae4a8cad5a6af0499a211d   \n",
       "...           ...    ...  ...                               ...   \n",
       "16995       16995      F   45  6d5f3a774f3d4714ab0c092238f3a1d7   \n",
       "16996       16996      M   61  2cb4f97358b841b9a9773a7aa05a9d77   \n",
       "16997       16997      M   49  01d26f638c274aa0b965d24cefe3183f   \n",
       "16998       16998      F   83  9dc1421481194dcd9400aec7c9ae6366   \n",
       "16999       16999      F   62  e4052622e5ba45a8b96b59aba68cf068   \n",
       "\n",
       "      became_member_on    income  \n",
       "1           2017-07-15  112000.0  \n",
       "3           2017-05-09  100000.0  \n",
       "5           2018-04-26   70000.0  \n",
       "8           2018-02-09   53000.0  \n",
       "12          2017-11-11   51000.0  \n",
       "...                ...       ...  \n",
       "16995       2018-06-04   54000.0  \n",
       "16996       2018-07-13   72000.0  \n",
       "16997       2017-01-26   73000.0  \n",
       "16998       2016-03-07   50000.0  \n",
       "16999       2017-07-22   82000.0  \n",
       "\n",
       "[14825 rows x 6 columns]"
      ]
     },
     "execution_count": 11,
     "metadata": {},
     "output_type": "execute_result"
    }
   ],
   "source": [
    "profile"
   ]
  },
  {
   "cell_type": "code",
   "execution_count": 12,
   "metadata": {},
   "outputs": [
    {
     "ename": "NameError",
     "evalue": "name 'rate_by_gender' is not defined",
     "output_type": "error",
     "traceback": [
      "\u001b[0;31m---------------------------------------------------------------------------\u001b[0m",
      "\u001b[0;31mNameError\u001b[0m                                 Traceback (most recent call last)",
      "\u001b[0;32m<ipython-input-12-ff6b1f47e380>\u001b[0m in \u001b[0;36m<module>\u001b[0;34m\u001b[0m\n\u001b[0;32m----> 1\u001b[0;31m \u001b[0mrate_by_gender\u001b[0m\u001b[0;34m\u001b[0m\u001b[0;34m\u001b[0m\u001b[0m\n\u001b[0m",
      "\u001b[0;31mNameError\u001b[0m: name 'rate_by_gender' is not defined"
     ]
    }
   ],
   "source": [
    "rate_by_gender"
   ]
  },
  {
   "cell_type": "code",
   "execution_count": null,
   "metadata": {},
   "outputs": [],
   "source": [
    "rate_by_gender=profile.groupby('gender').count()['id'].sort_values()\n",
    "rate_by_gender.plot.bar()"
   ]
  },
  {
   "cell_type": "markdown",
   "metadata": {},
   "source": [
    "분석: 남자의 참여율이 더 높다."
   ]
  },
  {
   "cell_type": "markdown",
   "metadata": {},
   "source": [
    "#### 나이에 대한 분석"
   ]
  },
  {
   "cell_type": "code",
   "execution_count": 13,
   "metadata": {},
   "outputs": [
    {
     "data": {
      "text/html": [
       "<div>\n",
       "<style scoped>\n",
       "    .dataframe tbody tr th:only-of-type {\n",
       "        vertical-align: middle;\n",
       "    }\n",
       "\n",
       "    .dataframe tbody tr th {\n",
       "        vertical-align: top;\n",
       "    }\n",
       "\n",
       "    .dataframe thead th {\n",
       "        text-align: right;\n",
       "    }\n",
       "</style>\n",
       "<table border=\"1\" class=\"dataframe\">\n",
       "  <thead>\n",
       "    <tr style=\"text-align: right;\">\n",
       "      <th></th>\n",
       "      <th>age</th>\n",
       "    </tr>\n",
       "  </thead>\n",
       "  <tbody>\n",
       "    <tr>\n",
       "      <th>0</th>\n",
       "      <td>18</td>\n",
       "    </tr>\n",
       "    <tr>\n",
       "      <th>1</th>\n",
       "      <td>18</td>\n",
       "    </tr>\n",
       "    <tr>\n",
       "      <th>2</th>\n",
       "      <td>18</td>\n",
       "    </tr>\n",
       "    <tr>\n",
       "      <th>3</th>\n",
       "      <td>18</td>\n",
       "    </tr>\n",
       "    <tr>\n",
       "      <th>4</th>\n",
       "      <td>18</td>\n",
       "    </tr>\n",
       "    <tr>\n",
       "      <th>...</th>\n",
       "      <td>...</td>\n",
       "    </tr>\n",
       "    <tr>\n",
       "      <th>14820</th>\n",
       "      <td>101</td>\n",
       "    </tr>\n",
       "    <tr>\n",
       "      <th>14821</th>\n",
       "      <td>101</td>\n",
       "    </tr>\n",
       "    <tr>\n",
       "      <th>14822</th>\n",
       "      <td>101</td>\n",
       "    </tr>\n",
       "    <tr>\n",
       "      <th>14823</th>\n",
       "      <td>101</td>\n",
       "    </tr>\n",
       "    <tr>\n",
       "      <th>14824</th>\n",
       "      <td>101</td>\n",
       "    </tr>\n",
       "  </tbody>\n",
       "</table>\n",
       "<p>14825 rows × 1 columns</p>\n",
       "</div>"
      ],
      "text/plain": [
       "       age\n",
       "0       18\n",
       "1       18\n",
       "2       18\n",
       "3       18\n",
       "4       18\n",
       "...    ...\n",
       "14820  101\n",
       "14821  101\n",
       "14822  101\n",
       "14823  101\n",
       "14824  101\n",
       "\n",
       "[14825 rows x 1 columns]"
      ]
     },
     "execution_count": 13,
     "metadata": {},
     "output_type": "execute_result"
    }
   ],
   "source": [
    "age=profile['age'].sort_values().reset_index().drop('index',axis=1)\n",
    "age"
   ]
  },
  {
   "cell_type": "code",
   "execution_count": 14,
   "metadata": {},
   "outputs": [
    {
     "data": {
      "text/plain": [
       "101"
      ]
     },
     "execution_count": 14,
     "metadata": {},
     "output_type": "execute_result"
    }
   ],
   "source": [
    "profile['age'].max()"
   ]
  },
  {
   "cell_type": "code",
   "execution_count": 15,
   "metadata": {},
   "outputs": [
    {
     "data": {
      "image/png": "[encoded data removed]",
      "text/plain": [
       "<Figure size 1152x576 with 1 Axes>"
      ]
     },
     "metadata": {
      "needs_background": "light"
     },
     "output_type": "display_data"
    }
   ],
   "source": [
    "profile['age'].plot.hist(bins=range(16,110,2),figsize=[16,8])\n",
    "plt.title('AGE')\n",
    "plt.show()"
   ]
  },
  {
   "cell_type": "markdown",
   "metadata": {},
   "source": [
    "의견 : 50~60세 구간의 참여율이 가장 높으며 그 후에는 나이순서대로 줄어드는 것으로 보인다."
   ]
  },
  {
   "cell_type": "markdown",
   "metadata": {},
   "source": [
    "#### 회원이 된 날짜에 대한 분석"
   ]
  },
  {
   "cell_type": "code",
   "execution_count": 16,
   "metadata": {},
   "outputs": [
    {
     "data": {
      "text/html": [
       "<div>\n",
       "<style scoped>\n",
       "    .dataframe tbody tr th:only-of-type {\n",
       "        vertical-align: middle;\n",
       "    }\n",
       "\n",
       "    .dataframe tbody tr th {\n",
       "        vertical-align: top;\n",
       "    }\n",
       "\n",
       "    .dataframe thead th {\n",
       "        text-align: right;\n",
       "    }\n",
       "</style>\n",
       "<table border=\"1\" class=\"dataframe\">\n",
       "  <thead>\n",
       "    <tr style=\"text-align: right;\">\n",
       "      <th></th>\n",
       "      <th>became_member_on</th>\n",
       "    </tr>\n",
       "  </thead>\n",
       "  <tbody>\n",
       "    <tr>\n",
       "      <th>0</th>\n",
       "      <td>2013-07-29</td>\n",
       "    </tr>\n",
       "    <tr>\n",
       "      <th>1</th>\n",
       "      <td>2013-07-30</td>\n",
       "    </tr>\n",
       "    <tr>\n",
       "      <th>2</th>\n",
       "      <td>2013-07-30</td>\n",
       "    </tr>\n",
       "    <tr>\n",
       "      <th>3</th>\n",
       "      <td>2013-07-30</td>\n",
       "    </tr>\n",
       "    <tr>\n",
       "      <th>4</th>\n",
       "      <td>2013-07-31</td>\n",
       "    </tr>\n",
       "    <tr>\n",
       "      <th>...</th>\n",
       "      <td>...</td>\n",
       "    </tr>\n",
       "    <tr>\n",
       "      <th>14820</th>\n",
       "      <td>2018-07-26</td>\n",
       "    </tr>\n",
       "    <tr>\n",
       "      <th>14821</th>\n",
       "      <td>2018-07-26</td>\n",
       "    </tr>\n",
       "    <tr>\n",
       "      <th>14822</th>\n",
       "      <td>2018-07-26</td>\n",
       "    </tr>\n",
       "    <tr>\n",
       "      <th>14823</th>\n",
       "      <td>2018-07-26</td>\n",
       "    </tr>\n",
       "    <tr>\n",
       "      <th>14824</th>\n",
       "      <td>2018-07-26</td>\n",
       "    </tr>\n",
       "  </tbody>\n",
       "</table>\n",
       "<p>14825 rows × 1 columns</p>\n",
       "</div>"
      ],
      "text/plain": [
       "      became_member_on\n",
       "0           2013-07-29\n",
       "1           2013-07-30\n",
       "2           2013-07-30\n",
       "3           2013-07-30\n",
       "4           2013-07-31\n",
       "...                ...\n",
       "14820       2018-07-26\n",
       "14821       2018-07-26\n",
       "14822       2018-07-26\n",
       "14823       2018-07-26\n",
       "14824       2018-07-26\n",
       "\n",
       "[14825 rows x 1 columns]"
      ]
     },
     "execution_count": 16,
     "metadata": {},
     "output_type": "execute_result"
    }
   ],
   "source": [
    "member = profile['became_member_on'].sort_values().reset_index().drop('index', axis=1)\n",
    "member"
   ]
  },
  {
   "cell_type": "markdown",
   "metadata": {},
   "source": [
    "#### 연도별 분석"
   ]
  },
  {
   "cell_type": "code",
   "execution_count": 17,
   "metadata": {},
   "outputs": [
    {
     "data": {
      "text/plain": [
       "became_member_on\n",
       "2013     274\n",
       "2014     662\n",
       "2015    1597\n",
       "2016    3024\n",
       "2017    5599\n",
       "2018    3669\n",
       "Name: id, dtype: int64"
      ]
     },
     "execution_count": 17,
     "metadata": {},
     "output_type": "execute_result"
    }
   ],
   "source": [
    "member_by_year = profile.set_index('became_member_on').groupby(lambda date:date.year).count()['id']\n",
    "member_by_year"
   ]
  },
  {
   "cell_type": "code",
   "execution_count": 18,
   "metadata": {},
   "outputs": [],
   "source": [
    "def plot_bar(df, xlabel, ylabel, title, figsize=(20, 10), color=COLORS[-1], rotation=45):\n",
    "    plot = df.plot(kind='bar', color=color, figsize=figsize)\n",
    "    plot.set_xlabel(xlabel, fontsize=10)\n",
    "    plot.set_ylabel(ylabel, fontsize=10)\n",
    "    plot.set_title(title, fontsize=12)\n",
    "    plot.set_xticklabels(labels=df.index, rotation=rotation)"
   ]
  },
  {
   "cell_type": "code",
   "execution_count": 19,
   "metadata": {},
   "outputs": [
    {
     "data": {
      "image/png": "[encoded data removed]",
      "text/plain": [
       "<Figure size 1440x720 with 1 Axes>"
      ]
     },
     "metadata": {
      "needs_background": "light"
     },
     "output_type": "display_data"
    }
   ],
   "source": [
    "plot_bar(member_by_year, 'year','#rate','Members responded by year')"
   ]
  },
  {
   "cell_type": "markdown",
   "metadata": {},
   "source": [
    "분석 : 2017년 까지 참여율이 점점 높아졌고, 2018년에 감소하였다."
   ]
  },
  {
   "cell_type": "markdown",
   "metadata": {},
   "source": [
    "#### 수입에 대한 분석"
   ]
  },
  {
   "cell_type": "code",
   "execution_count": 20,
   "metadata": {},
   "outputs": [
    {
     "data": {
      "text/plain": [
       "3226      30000.0\n",
       "7574      30000.0\n",
       "2211      30000.0\n",
       "12554     30000.0\n",
       "13412     30000.0\n",
       "           ...   \n",
       "2984     120000.0\n",
       "3843     120000.0\n",
       "7513     120000.0\n",
       "306      120000.0\n",
       "7467     120000.0\n",
       "Name: income, Length: 14825, dtype: float64"
      ]
     },
     "execution_count": 20,
     "metadata": {},
     "output_type": "execute_result"
    }
   ],
   "source": [
    "income = profile['income'].sort_values()\n",
    "income"
   ]
  },
  {
   "cell_type": "code",
   "execution_count": 21,
   "metadata": {},
   "outputs": [
    {
     "data": {
      "text/plain": [
       "count     14825.000000\n",
       "mean      65404.991568\n",
       "std       21598.299410\n",
       "min       30000.000000\n",
       "25%       49000.000000\n",
       "50%       64000.000000\n",
       "75%       80000.000000\n",
       "max      120000.000000\n",
       "Name: income, dtype: float64"
      ]
     },
     "execution_count": 21,
     "metadata": {},
     "output_type": "execute_result"
    }
   ],
   "source": [
    "income.describe()"
   ]
  },
  {
   "cell_type": "code",
   "execution_count": 22,
   "metadata": {},
   "outputs": [
    {
     "data": {
      "image/png": "[encoded data removed]",
      "text/plain": [
       "<Figure size 432x288 with 1 Axes>"
      ]
     },
     "metadata": {
      "needs_background": "light"
     },
     "output_type": "display_data"
    }
   ],
   "source": [
    "profile['income'].plot.hist()\n",
    "plt.title('income')\n",
    "plt.show()"
   ]
  },
  {
   "cell_type": "markdown",
   "metadata": {},
   "source": [
    "분석 : 수입이 약 5000~7000인 회원들에 빈도가 높으며, 그 이후 부터는 수입과 빈도수가 반비례하는 모습을 보여줍니다."
   ]
  },
  {
   "cell_type": "markdown",
   "metadata": {},
   "source": [
    "#### profile 데이터에 대한 상관관계 분석"
   ]
  },
  {
   "cell_type": "markdown",
   "metadata": {},
   "source": [
    "성별 : 남자가 여자보다 참여율이 높다.<br>\n",
    "나이 : 50-60세 구간의 참여율이 가장 높으며 그 후에는 나이순서대로 줄어드는 것으로 보인다.<br>\n",
    "회원이 된 날짜에 대한 분석 (연도별) : 2017년 까지 참여율이 점점 높아졌고, 2018년에 감소하였다.<br>\n",
    "수입 : 수입이 약 5000~7000인 회원들에 빈도가 높으며, 그 이후 부터는 수입과 빈도수가 반비례하는 모습을 보여줍니다.<br>"
   ]
  },
  {
   "cell_type": "markdown",
   "metadata": {},
   "source": [
    "### 4. transcript에 대한 분석\n",
    "\n",
    "- 각 column마다 원하는 통계량을 찾은 뒤, 해당 통계량을 멋지게 시각화해 줄 plot을 seaborn에서 가져와 구현합니다.\n",
    "\n",
    "\n",
    "- `person`과 `values` column은 분석 대상에서 제외합니다.\n",
    "\n",
    "\n",
    "> values에 대한 패턴이 궁금하다면, 아래 코드를 참고해보세요 ! (배우지 않은 내용이 있어, 어려울 수 있습니다)"
   ]
  },
  {
   "cell_type": "markdown",
   "metadata": {},
   "source": [
    "#### event에 대한 분석"
   ]
  },
  {
   "cell_type": "code",
   "execution_count": 23,
   "metadata": {},
   "outputs": [
    {
     "data": {
      "text/plain": [
       "event\n",
       "offer completed     33579\n",
       "offer viewed        57725\n",
       "offer received      76277\n",
       "transaction        138953\n",
       "Name: person, dtype: int64"
      ]
     },
     "execution_count": 23,
     "metadata": {},
     "output_type": "execute_result"
    }
   ],
   "source": [
    "rate_by_event = transcript.groupby('event').count()['person'].sort_values()\n",
    "rate_by_event"
   ]
  },
  {
   "cell_type": "code",
   "execution_count": 54,
   "metadata": {},
   "outputs": [
    {
     "data": {
      "text/html": [
       "<div>\n",
       "<style scoped>\n",
       "    .dataframe tbody tr th:only-of-type {\n",
       "        vertical-align: middle;\n",
       "    }\n",
       "\n",
       "    .dataframe tbody tr th {\n",
       "        vertical-align: top;\n",
       "    }\n",
       "\n",
       "    .dataframe thead th {\n",
       "        text-align: right;\n",
       "    }\n",
       "</style>\n",
       "<table border=\"1\" class=\"dataframe\">\n",
       "  <thead>\n",
       "    <tr style=\"text-align: right;\">\n",
       "      <th></th>\n",
       "      <th>Unnamed: 0</th>\n",
       "      <th>person</th>\n",
       "      <th>event</th>\n",
       "      <th>value</th>\n",
       "      <th>time</th>\n",
       "      <th>event_count</th>\n",
       "    </tr>\n",
       "  </thead>\n",
       "  <tbody>\n",
       "    <tr>\n",
       "      <th>0</th>\n",
       "      <td>0</td>\n",
       "      <td>78afa995795e4d85b5d9ceeca43f5fef</td>\n",
       "      <td>offer received</td>\n",
       "      <td>{'offer id': '9b98b8c7a33c4b65b9aebfe6a799e6d9'}</td>\n",
       "      <td>0</td>\n",
       "      <td>NaN</td>\n",
       "    </tr>\n",
       "    <tr>\n",
       "      <th>1</th>\n",
       "      <td>1</td>\n",
       "      <td>a03223e636434f42ac4c3df47e8bac43</td>\n",
       "      <td>offer received</td>\n",
       "      <td>{'offer id': '0b1e1539f2cc45b7b9fa7c272da2e1d7'}</td>\n",
       "      <td>0</td>\n",
       "      <td>NaN</td>\n",
       "    </tr>\n",
       "    <tr>\n",
       "      <th>2</th>\n",
       "      <td>2</td>\n",
       "      <td>e2127556f4f64592b11af22de27a7932</td>\n",
       "      <td>offer received</td>\n",
       "      <td>{'offer id': '2906b810c7d4411798c6938adc9daaa5'}</td>\n",
       "      <td>0</td>\n",
       "      <td>NaN</td>\n",
       "    </tr>\n",
       "    <tr>\n",
       "      <th>3</th>\n",
       "      <td>3</td>\n",
       "      <td>8ec6ce2a7e7949b1bf142def7d0e0586</td>\n",
       "      <td>offer received</td>\n",
       "      <td>{'offer id': 'fafdcd668e3743c1bb461111dcafc2a4'}</td>\n",
       "      <td>0</td>\n",
       "      <td>NaN</td>\n",
       "    </tr>\n",
       "    <tr>\n",
       "      <th>4</th>\n",
       "      <td>4</td>\n",
       "      <td>68617ca6246f4fbc85e91a2a49552598</td>\n",
       "      <td>offer received</td>\n",
       "      <td>{'offer id': '4d5c57ea9a6940dd891ad53e9dbe8da0'}</td>\n",
       "      <td>0</td>\n",
       "      <td>NaN</td>\n",
       "    </tr>\n",
       "    <tr>\n",
       "      <th>...</th>\n",
       "      <td>...</td>\n",
       "      <td>...</td>\n",
       "      <td>...</td>\n",
       "      <td>...</td>\n",
       "      <td>...</td>\n",
       "      <td>...</td>\n",
       "    </tr>\n",
       "    <tr>\n",
       "      <th>306529</th>\n",
       "      <td>306529</td>\n",
       "      <td>b3a1272bc9904337b331bf348c3e8c17</td>\n",
       "      <td>transaction</td>\n",
       "      <td>{'amount': 1.5899999999999999}</td>\n",
       "      <td>714</td>\n",
       "      <td>NaN</td>\n",
       "    </tr>\n",
       "    <tr>\n",
       "      <th>306530</th>\n",
       "      <td>306530</td>\n",
       "      <td>68213b08d99a4ae1b0dcb72aebd9aa35</td>\n",
       "      <td>transaction</td>\n",
       "      <td>{'amount': 9.53}</td>\n",
       "      <td>714</td>\n",
       "      <td>NaN</td>\n",
       "    </tr>\n",
       "    <tr>\n",
       "      <th>306531</th>\n",
       "      <td>306531</td>\n",
       "      <td>a00058cf10334a308c68e7631c529907</td>\n",
       "      <td>transaction</td>\n",
       "      <td>{'amount': 3.61}</td>\n",
       "      <td>714</td>\n",
       "      <td>NaN</td>\n",
       "    </tr>\n",
       "    <tr>\n",
       "      <th>306532</th>\n",
       "      <td>306532</td>\n",
       "      <td>76ddbd6576844afe811f1a3c0fbb5bec</td>\n",
       "      <td>transaction</td>\n",
       "      <td>{'amount': 3.5300000000000002}</td>\n",
       "      <td>714</td>\n",
       "      <td>NaN</td>\n",
       "    </tr>\n",
       "    <tr>\n",
       "      <th>306533</th>\n",
       "      <td>306533</td>\n",
       "      <td>c02b10e8752c4d8e9b73f918558531f7</td>\n",
       "      <td>transaction</td>\n",
       "      <td>{'amount': 4.05}</td>\n",
       "      <td>714</td>\n",
       "      <td>NaN</td>\n",
       "    </tr>\n",
       "  </tbody>\n",
       "</table>\n",
       "<p>306534 rows × 6 columns</p>\n",
       "</div>"
      ],
      "text/plain": [
       "        Unnamed: 0                            person           event  \\\n",
       "0                0  78afa995795e4d85b5d9ceeca43f5fef  offer received   \n",
       "1                1  a03223e636434f42ac4c3df47e8bac43  offer received   \n",
       "2                2  e2127556f4f64592b11af22de27a7932  offer received   \n",
       "3                3  8ec6ce2a7e7949b1bf142def7d0e0586  offer received   \n",
       "4                4  68617ca6246f4fbc85e91a2a49552598  offer received   \n",
       "...            ...                               ...             ...   \n",
       "306529      306529  b3a1272bc9904337b331bf348c3e8c17     transaction   \n",
       "306530      306530  68213b08d99a4ae1b0dcb72aebd9aa35     transaction   \n",
       "306531      306531  a00058cf10334a308c68e7631c529907     transaction   \n",
       "306532      306532  76ddbd6576844afe811f1a3c0fbb5bec     transaction   \n",
       "306533      306533  c02b10e8752c4d8e9b73f918558531f7     transaction   \n",
       "\n",
       "                                                   value  time  event_count  \n",
       "0       {'offer id': '9b98b8c7a33c4b65b9aebfe6a799e6d9'}     0          NaN  \n",
       "1       {'offer id': '0b1e1539f2cc45b7b9fa7c272da2e1d7'}     0          NaN  \n",
       "2       {'offer id': '2906b810c7d4411798c6938adc9daaa5'}     0          NaN  \n",
       "3       {'offer id': 'fafdcd668e3743c1bb461111dcafc2a4'}     0          NaN  \n",
       "4       {'offer id': '4d5c57ea9a6940dd891ad53e9dbe8da0'}     0          NaN  \n",
       "...                                                  ...   ...          ...  \n",
       "306529                    {'amount': 1.5899999999999999}   714          NaN  \n",
       "306530                                  {'amount': 9.53}   714          NaN  \n",
       "306531                                  {'amount': 3.61}   714          NaN  \n",
       "306532                    {'amount': 3.5300000000000002}   714          NaN  \n",
       "306533                                  {'amount': 4.05}   714          NaN  \n",
       "\n",
       "[306534 rows x 6 columns]"
      ]
     },
     "execution_count": 54,
     "metadata": {},
     "output_type": "execute_result"
    }
   ],
   "source": [
    "transcript['event_count']=transcript['event'](.value_counts())\n",
    "transcript"
   ]
  },
  {
   "cell_type": "code",
   "execution_count": 61,
   "metadata": {},
   "outputs": [
    {
     "name": "stderr",
     "output_type": "stream",
     "text": [
      "<ipython-input-61-62350d4bb04e>:1: SettingWithCopyWarning: \n",
      "A value is trying to be set on a copy of a slice from a DataFrame\n",
      "\n",
      "See the caveats in the documentation: https://pandas.pydata.org/pandas-docs/stable/user_guide/indexing.html#returning-a-view-versus-a-copy\n",
      "  transcript['event']['transaction']=transcript['event']\n"
     ]
    },
    {
     "data": {
      "text/html": [
       "<div>\n",
       "<style scoped>\n",
       "    .dataframe tbody tr th:only-of-type {\n",
       "        vertical-align: middle;\n",
       "    }\n",
       "\n",
       "    .dataframe tbody tr th {\n",
       "        vertical-align: top;\n",
       "    }\n",
       "\n",
       "    .dataframe thead th {\n",
       "        text-align: right;\n",
       "    }\n",
       "</style>\n",
       "<table border=\"1\" class=\"dataframe\">\n",
       "  <thead>\n",
       "    <tr style=\"text-align: right;\">\n",
       "      <th></th>\n",
       "      <th>Unnamed: 0</th>\n",
       "      <th>person</th>\n",
       "      <th>event</th>\n",
       "      <th>value</th>\n",
       "      <th>time</th>\n",
       "      <th>event_count</th>\n",
       "    </tr>\n",
       "  </thead>\n",
       "  <tbody>\n",
       "    <tr>\n",
       "      <th>0</th>\n",
       "      <td>0</td>\n",
       "      <td>78afa995795e4d85b5d9ceeca43f5fef</td>\n",
       "      <td>offer received</td>\n",
       "      <td>{'offer id': '9b98b8c7a33c4b65b9aebfe6a799e6d9'}</td>\n",
       "      <td>0</td>\n",
       "      <td>offer received</td>\n",
       "    </tr>\n",
       "    <tr>\n",
       "      <th>1</th>\n",
       "      <td>1</td>\n",
       "      <td>a03223e636434f42ac4c3df47e8bac43</td>\n",
       "      <td>offer received</td>\n",
       "      <td>{'offer id': '0b1e1539f2cc45b7b9fa7c272da2e1d7'}</td>\n",
       "      <td>0</td>\n",
       "      <td>offer received</td>\n",
       "    </tr>\n",
       "    <tr>\n",
       "      <th>2</th>\n",
       "      <td>2</td>\n",
       "      <td>e2127556f4f64592b11af22de27a7932</td>\n",
       "      <td>offer received</td>\n",
       "      <td>{'offer id': '2906b810c7d4411798c6938adc9daaa5'}</td>\n",
       "      <td>0</td>\n",
       "      <td>offer received</td>\n",
       "    </tr>\n",
       "    <tr>\n",
       "      <th>3</th>\n",
       "      <td>3</td>\n",
       "      <td>8ec6ce2a7e7949b1bf142def7d0e0586</td>\n",
       "      <td>offer received</td>\n",
       "      <td>{'offer id': 'fafdcd668e3743c1bb461111dcafc2a4'}</td>\n",
       "      <td>0</td>\n",
       "      <td>offer received</td>\n",
       "    </tr>\n",
       "    <tr>\n",
       "      <th>4</th>\n",
       "      <td>4</td>\n",
       "      <td>68617ca6246f4fbc85e91a2a49552598</td>\n",
       "      <td>offer received</td>\n",
       "      <td>{'offer id': '4d5c57ea9a6940dd891ad53e9dbe8da0'}</td>\n",
       "      <td>0</td>\n",
       "      <td>offer received</td>\n",
       "    </tr>\n",
       "    <tr>\n",
       "      <th>...</th>\n",
       "      <td>...</td>\n",
       "      <td>...</td>\n",
       "      <td>...</td>\n",
       "      <td>...</td>\n",
       "      <td>...</td>\n",
       "      <td>...</td>\n",
       "    </tr>\n",
       "    <tr>\n",
       "      <th>306529</th>\n",
       "      <td>306529</td>\n",
       "      <td>b3a1272bc9904337b331bf348c3e8c17</td>\n",
       "      <td>transaction</td>\n",
       "      <td>{'amount': 1.5899999999999999}</td>\n",
       "      <td>714</td>\n",
       "      <td>transaction</td>\n",
       "    </tr>\n",
       "    <tr>\n",
       "      <th>306530</th>\n",
       "      <td>306530</td>\n",
       "      <td>68213b08d99a4ae1b0dcb72aebd9aa35</td>\n",
       "      <td>transaction</td>\n",
       "      <td>{'amount': 9.53}</td>\n",
       "      <td>714</td>\n",
       "      <td>transaction</td>\n",
       "    </tr>\n",
       "    <tr>\n",
       "      <th>306531</th>\n",
       "      <td>306531</td>\n",
       "      <td>a00058cf10334a308c68e7631c529907</td>\n",
       "      <td>transaction</td>\n",
       "      <td>{'amount': 3.61}</td>\n",
       "      <td>714</td>\n",
       "      <td>transaction</td>\n",
       "    </tr>\n",
       "    <tr>\n",
       "      <th>306532</th>\n",
       "      <td>306532</td>\n",
       "      <td>76ddbd6576844afe811f1a3c0fbb5bec</td>\n",
       "      <td>transaction</td>\n",
       "      <td>{'amount': 3.5300000000000002}</td>\n",
       "      <td>714</td>\n",
       "      <td>transaction</td>\n",
       "    </tr>\n",
       "    <tr>\n",
       "      <th>306533</th>\n",
       "      <td>306533</td>\n",
       "      <td>c02b10e8752c4d8e9b73f918558531f7</td>\n",
       "      <td>transaction</td>\n",
       "      <td>{'amount': 4.05}</td>\n",
       "      <td>714</td>\n",
       "      <td>transaction</td>\n",
       "    </tr>\n",
       "  </tbody>\n",
       "</table>\n",
       "<p>306534 rows × 6 columns</p>\n",
       "</div>"
      ],
      "text/plain": [
       "        Unnamed: 0                            person           event  \\\n",
       "0                0  78afa995795e4d85b5d9ceeca43f5fef  offer received   \n",
       "1                1  a03223e636434f42ac4c3df47e8bac43  offer received   \n",
       "2                2  e2127556f4f64592b11af22de27a7932  offer received   \n",
       "3                3  8ec6ce2a7e7949b1bf142def7d0e0586  offer received   \n",
       "4                4  68617ca6246f4fbc85e91a2a49552598  offer received   \n",
       "...            ...                               ...             ...   \n",
       "306529      306529  b3a1272bc9904337b331bf348c3e8c17     transaction   \n",
       "306530      306530  68213b08d99a4ae1b0dcb72aebd9aa35     transaction   \n",
       "306531      306531  a00058cf10334a308c68e7631c529907     transaction   \n",
       "306532      306532  76ddbd6576844afe811f1a3c0fbb5bec     transaction   \n",
       "306533      306533  c02b10e8752c4d8e9b73f918558531f7     transaction   \n",
       "\n",
       "                                                   value  time     event_count  \n",
       "0       {'offer id': '9b98b8c7a33c4b65b9aebfe6a799e6d9'}     0  offer received  \n",
       "1       {'offer id': '0b1e1539f2cc45b7b9fa7c272da2e1d7'}     0  offer received  \n",
       "2       {'offer id': '2906b810c7d4411798c6938adc9daaa5'}     0  offer received  \n",
       "3       {'offer id': 'fafdcd668e3743c1bb461111dcafc2a4'}     0  offer received  \n",
       "4       {'offer id': '4d5c57ea9a6940dd891ad53e9dbe8da0'}     0  offer received  \n",
       "...                                                  ...   ...             ...  \n",
       "306529                    {'amount': 1.5899999999999999}   714     transaction  \n",
       "306530                                  {'amount': 9.53}   714     transaction  \n",
       "306531                                  {'amount': 3.61}   714     transaction  \n",
       "306532                    {'amount': 3.5300000000000002}   714     transaction  \n",
       "306533                                  {'amount': 4.05}   714     transaction  \n",
       "\n",
       "[306534 rows x 6 columns]"
      ]
     },
     "execution_count": 61,
     "metadata": {},
     "output_type": "execute_result"
    }
   ],
   "source": [
    "transcript['event']['transaction']=transcript['event']\n",
    "transcript"
   ]
  },
  {
   "cell_type": "code",
   "execution_count": 70,
   "metadata": {},
   "outputs": [
    {
     "data": {
      "text/plain": [
       "0         offer received\n",
       "1         offer received\n",
       "2         offer received\n",
       "3         offer received\n",
       "4         offer received\n",
       "               ...      \n",
       "306529       transaction\n",
       "306530       transaction\n",
       "306531       transaction\n",
       "306532       transaction\n",
       "306533       transaction\n",
       "Name: event, Length: 306534, dtype: object"
      ]
     },
     "execution_count": 70,
     "metadata": {},
     "output_type": "execute_result"
    }
   ],
   "source": [
    "transcript['event']"
   ]
  },
  {
   "cell_type": "code",
   "execution_count": 72,
   "metadata": {},
   "outputs": [
    {
     "data": {
      "text/plain": [
       "306534"
      ]
     },
     "execution_count": 72,
     "metadata": {},
     "output_type": "execute_result"
    }
   ],
   "source": [
    "transcript['event'].count()"
   ]
  },
  {
   "cell_type": "code",
   "execution_count": 79,
   "metadata": {},
   "outputs": [
    {
     "data": {
      "text/plain": [
       "event\n",
       "offer completed     33579\n",
       "offer viewed        57725\n",
       "offer received      76277\n",
       "transaction        138953\n",
       "Name: person, dtype: int64"
      ]
     },
     "execution_count": 79,
     "metadata": {},
     "output_type": "execute_result"
    }
   ],
   "source": [
    "rate_by_event"
   ]
  },
  {
   "cell_type": "code",
   "execution_count": 84,
   "metadata": {},
   "outputs": [
    {
     "data": {
      "text/plain": [
       "0.45330371182315826"
      ]
     },
     "execution_count": 84,
     "metadata": {},
     "output_type": "execute_result"
    }
   ],
   "source": [
    "rate_by_event['transaction'] / transcript['event'].count()"
   ]
  },
  {
   "cell_type": "code",
   "execution_count": 83,
   "metadata": {},
   "outputs": [
    {
     "data": {
      "image/png": "[encoded data removed]",
      "text/plain": [
       "<Figure size 1440x720 with 1 Axes>"
      ]
     },
     "metadata": {
      "needs_background": "light"
     },
     "output_type": "display_data"
    }
   ],
   "source": [
    "plot_bar(rate_by_event,'event','count','rate_byevent')"
   ]
  },
  {
   "cell_type": "markdown",
   "metadata": {},
   "source": [
    "분석 : transaction 된 것이 약 14,000건으로 0.45% 이고 그외에 offer 된 것들이 55% 인데 그 중에 어떤 부분에서 이탈이 되었는지 알 수가 있다."
   ]
  },
  {
   "cell_type": "markdown",
   "metadata": {},
   "source": [
    "#### time에 대한 분석"
   ]
  },
  {
   "cell_type": "code",
   "execution_count": 24,
   "metadata": {},
   "outputs": [
    {
     "data": {
      "text/plain": [
       "time\n",
       "150      894\n",
       "162      910\n",
       "156      914\n",
       "330      938\n",
       "318      940\n",
       "       ...  \n",
       "168    16150\n",
       "336    16302\n",
       "504    16822\n",
       "576    17015\n",
       "408    17030\n",
       "Name: person, Length: 120, dtype: int64"
      ]
     },
     "execution_count": 24,
     "metadata": {},
     "output_type": "execute_result"
    }
   ],
   "source": [
    "rate_by_time = transcript.groupby('time').count()['person'].sort_values()\n",
    "rate_by_time"
   ]
  },
  {
   "cell_type": "code",
   "execution_count": 39,
   "metadata": {},
   "outputs": [
    {
     "data": {
      "text/plain": [
       "306534"
      ]
     },
     "execution_count": 39,
     "metadata": {},
     "output_type": "execute_result"
    }
   ],
   "source": [
    "len(transcript)"
   ]
  },
  {
   "cell_type": "code",
   "execution_count": 25,
   "metadata": {},
   "outputs": [
    {
     "data": {
      "text/plain": [
       "time\n",
       "78     1308\n",
       "84     1323\n",
       "696    1326\n",
       "258    1338\n",
       "678    1351\n",
       "72     1373\n",
       "684    1384\n",
       "60     1428\n",
       "246    1433\n",
       "498    1486\n",
       "66     1487\n",
       "54     1519\n",
       "234    1551\n",
       "240    1565\n",
       "672    1595\n",
       "660    1599\n",
       "654    1599\n",
       "48     1610\n",
       "666    1611\n",
       "492    1619\n",
       "Name: person, dtype: int64"
      ]
     },
     "execution_count": 25,
     "metadata": {},
     "output_type": "execute_result"
    }
   ],
   "source": [
    "rate_by_time[30:50]\n",
    "# 시간에 대한 연관성을 자세히 보기 위해 중간 부분 을 좀 더 찾아봄"
   ]
  },
  {
   "cell_type": "code",
   "execution_count": 41,
   "metadata": {},
   "outputs": [
    {
     "data": {
      "text/plain": [
       "306534"
      ]
     },
     "execution_count": 41,
     "metadata": {},
     "output_type": "execute_result"
    }
   ],
   "source": [
    "transcript['time'].count()"
   ]
  },
  {
   "cell_type": "code",
   "execution_count": 45,
   "metadata": {},
   "outputs": [
    {
     "data": {
      "image/png": "[encoded data removed]",
      "text/plain": [
       "<Figure size 432x288 with 1 Axes>"
      ]
     },
     "metadata": {
      "needs_background": "light"
     },
     "output_type": "display_data"
    }
   ],
   "source": [
    "#rate_by_time.plot.hist()\n",
    "transcript['time'].plot.hist(bins=range(0,750,30))\n",
    "plt.show()\n"
   ]
  },
  {
   "cell_type": "markdown",
   "metadata": {},
   "source": [
    "분석 : 유저(총:306534명)들이 응답에 참여한 시간은 최대 714 이며 응답을 바로 끊은 사람도 약 3000명 중반이다.\n",
    "    다른 요소와의 연관관계를 확인해 봐야겠으나, time 자체의 수치는 큰 의미를 부여하기 어렵다.\n",
    "    아마도, event에 따른 수치를 확인해 보는 것이 좋을 듯 하다."
   ]
  },
  {
   "cell_type": "markdown",
   "metadata": {},
   "source": [
    "#### (Advanced, optional) value에 대한 분석 "
   ]
  },
  {
   "cell_type": "code",
   "execution_count": 55,
   "metadata": {},
   "outputs": [
    {
     "data": {
      "text/html": [
       "<div>\n",
       "<style scoped>\n",
       "    .dataframe tbody tr th:only-of-type {\n",
       "        vertical-align: middle;\n",
       "    }\n",
       "\n",
       "    .dataframe tbody tr th {\n",
       "        vertical-align: top;\n",
       "    }\n",
       "\n",
       "    .dataframe thead th {\n",
       "        text-align: right;\n",
       "    }\n",
       "</style>\n",
       "<table border=\"1\" class=\"dataframe\">\n",
       "  <thead>\n",
       "    <tr style=\"text-align: right;\">\n",
       "      <th></th>\n",
       "      <th>Unnamed: 0</th>\n",
       "      <th>person</th>\n",
       "      <th>event</th>\n",
       "      <th>value</th>\n",
       "      <th>time</th>\n",
       "    </tr>\n",
       "  </thead>\n",
       "  <tbody>\n",
       "    <tr>\n",
       "      <th>0</th>\n",
       "      <td>0</td>\n",
       "      <td>78afa995795e4d85b5d9ceeca43f5fef</td>\n",
       "      <td>offer received</td>\n",
       "      <td>{'offer id': '9b98b8c7a33c4b65b9aebfe6a799e6d9'}</td>\n",
       "      <td>0</td>\n",
       "    </tr>\n",
       "    <tr>\n",
       "      <th>1</th>\n",
       "      <td>1</td>\n",
       "      <td>a03223e636434f42ac4c3df47e8bac43</td>\n",
       "      <td>offer received</td>\n",
       "      <td>{'offer id': '0b1e1539f2cc45b7b9fa7c272da2e1d7'}</td>\n",
       "      <td>0</td>\n",
       "    </tr>\n",
       "    <tr>\n",
       "      <th>2</th>\n",
       "      <td>2</td>\n",
       "      <td>e2127556f4f64592b11af22de27a7932</td>\n",
       "      <td>offer received</td>\n",
       "      <td>{'offer id': '2906b810c7d4411798c6938adc9daaa5'}</td>\n",
       "      <td>0</td>\n",
       "    </tr>\n",
       "    <tr>\n",
       "      <th>3</th>\n",
       "      <td>3</td>\n",
       "      <td>8ec6ce2a7e7949b1bf142def7d0e0586</td>\n",
       "      <td>offer received</td>\n",
       "      <td>{'offer id': 'fafdcd668e3743c1bb461111dcafc2a4'}</td>\n",
       "      <td>0</td>\n",
       "    </tr>\n",
       "    <tr>\n",
       "      <th>4</th>\n",
       "      <td>4</td>\n",
       "      <td>68617ca6246f4fbc85e91a2a49552598</td>\n",
       "      <td>offer received</td>\n",
       "      <td>{'offer id': '4d5c57ea9a6940dd891ad53e9dbe8da0'}</td>\n",
       "      <td>0</td>\n",
       "    </tr>\n",
       "    <tr>\n",
       "      <th>...</th>\n",
       "      <td>...</td>\n",
       "      <td>...</td>\n",
       "      <td>...</td>\n",
       "      <td>...</td>\n",
       "      <td>...</td>\n",
       "    </tr>\n",
       "    <tr>\n",
       "      <th>306529</th>\n",
       "      <td>306529</td>\n",
       "      <td>b3a1272bc9904337b331bf348c3e8c17</td>\n",
       "      <td>transaction</td>\n",
       "      <td>{'amount': 1.5899999999999999}</td>\n",
       "      <td>714</td>\n",
       "    </tr>\n",
       "    <tr>\n",
       "      <th>306530</th>\n",
       "      <td>306530</td>\n",
       "      <td>68213b08d99a4ae1b0dcb72aebd9aa35</td>\n",
       "      <td>transaction</td>\n",
       "      <td>{'amount': 9.53}</td>\n",
       "      <td>714</td>\n",
       "    </tr>\n",
       "    <tr>\n",
       "      <th>306531</th>\n",
       "      <td>306531</td>\n",
       "      <td>a00058cf10334a308c68e7631c529907</td>\n",
       "      <td>transaction</td>\n",
       "      <td>{'amount': 3.61}</td>\n",
       "      <td>714</td>\n",
       "    </tr>\n",
       "    <tr>\n",
       "      <th>306532</th>\n",
       "      <td>306532</td>\n",
       "      <td>76ddbd6576844afe811f1a3c0fbb5bec</td>\n",
       "      <td>transaction</td>\n",
       "      <td>{'amount': 3.5300000000000002}</td>\n",
       "      <td>714</td>\n",
       "    </tr>\n",
       "    <tr>\n",
       "      <th>306533</th>\n",
       "      <td>306533</td>\n",
       "      <td>c02b10e8752c4d8e9b73f918558531f7</td>\n",
       "      <td>transaction</td>\n",
       "      <td>{'amount': 4.05}</td>\n",
       "      <td>714</td>\n",
       "    </tr>\n",
       "  </tbody>\n",
       "</table>\n",
       "<p>306534 rows × 5 columns</p>\n",
       "</div>"
      ],
      "text/plain": [
       "        Unnamed: 0                            person           event  \\\n",
       "0                0  78afa995795e4d85b5d9ceeca43f5fef  offer received   \n",
       "1                1  a03223e636434f42ac4c3df47e8bac43  offer received   \n",
       "2                2  e2127556f4f64592b11af22de27a7932  offer received   \n",
       "3                3  8ec6ce2a7e7949b1bf142def7d0e0586  offer received   \n",
       "4                4  68617ca6246f4fbc85e91a2a49552598  offer received   \n",
       "...            ...                               ...             ...   \n",
       "306529      306529  b3a1272bc9904337b331bf348c3e8c17     transaction   \n",
       "306530      306530  68213b08d99a4ae1b0dcb72aebd9aa35     transaction   \n",
       "306531      306531  a00058cf10334a308c68e7631c529907     transaction   \n",
       "306532      306532  76ddbd6576844afe811f1a3c0fbb5bec     transaction   \n",
       "306533      306533  c02b10e8752c4d8e9b73f918558531f7     transaction   \n",
       "\n",
       "                                                   value  time  \n",
       "0       {'offer id': '9b98b8c7a33c4b65b9aebfe6a799e6d9'}     0  \n",
       "1       {'offer id': '0b1e1539f2cc45b7b9fa7c272da2e1d7'}     0  \n",
       "2       {'offer id': '2906b810c7d4411798c6938adc9daaa5'}     0  \n",
       "3       {'offer id': 'fafdcd668e3743c1bb461111dcafc2a4'}     0  \n",
       "4       {'offer id': '4d5c57ea9a6940dd891ad53e9dbe8da0'}     0  \n",
       "...                                                  ...   ...  \n",
       "306529                    {'amount': 1.5899999999999999}   714  \n",
       "306530                                  {'amount': 9.53}   714  \n",
       "306531                                  {'amount': 3.61}   714  \n",
       "306532                    {'amount': 3.5300000000000002}   714  \n",
       "306533                                  {'amount': 4.05}   714  \n",
       "\n",
       "[306534 rows x 5 columns]"
      ]
     },
     "execution_count": 55,
     "metadata": {},
     "output_type": "execute_result"
    }
   ],
   "source": [
    "# str로 되어있는 데이터를 dictionary로 변환\n",
    "transcript.value = transcript.value.apply(lambda x:eval(x))\n",
    "transcript"
   ]
  },
  {
   "cell_type": "code",
   "execution_count": 56,
   "metadata": {},
   "outputs": [
    {
     "data": {
      "text/plain": [
       "'offer id'"
      ]
     },
     "execution_count": 56,
     "metadata": {},
     "output_type": "execute_result"
    }
   ],
   "source": [
    "list(transcript.value[0].keys())[0]"
   ]
  },
  {
   "cell_type": "code",
   "execution_count": 57,
   "metadata": {},
   "outputs": [
    {
     "data": {
      "text/html": [
       "<div>\n",
       "<style scoped>\n",
       "    .dataframe tbody tr th:only-of-type {\n",
       "        vertical-align: middle;\n",
       "    }\n",
       "\n",
       "    .dataframe tbody tr th {\n",
       "        vertical-align: top;\n",
       "    }\n",
       "\n",
       "    .dataframe thead th {\n",
       "        text-align: right;\n",
       "    }\n",
       "</style>\n",
       "<table border=\"1\" class=\"dataframe\">\n",
       "  <thead>\n",
       "    <tr style=\"text-align: right;\">\n",
       "      <th></th>\n",
       "      <th>Unnamed: 0</th>\n",
       "      <th>person</th>\n",
       "      <th>event</th>\n",
       "      <th>value</th>\n",
       "      <th>time</th>\n",
       "      <th>value_key</th>\n",
       "      <th>value_value</th>\n",
       "    </tr>\n",
       "  </thead>\n",
       "  <tbody>\n",
       "    <tr>\n",
       "      <th>0</th>\n",
       "      <td>0</td>\n",
       "      <td>78afa995795e4d85b5d9ceeca43f5fef</td>\n",
       "      <td>offer received</td>\n",
       "      <td>{'offer id': '9b98b8c7a33c4b65b9aebfe6a799e6d9'}</td>\n",
       "      <td>0</td>\n",
       "      <td>offer id</td>\n",
       "      <td>9b98b8c7a33c4b65b9aebfe6a799e6d9</td>\n",
       "    </tr>\n",
       "    <tr>\n",
       "      <th>1</th>\n",
       "      <td>1</td>\n",
       "      <td>a03223e636434f42ac4c3df47e8bac43</td>\n",
       "      <td>offer received</td>\n",
       "      <td>{'offer id': '0b1e1539f2cc45b7b9fa7c272da2e1d7'}</td>\n",
       "      <td>0</td>\n",
       "      <td>offer id</td>\n",
       "      <td>0b1e1539f2cc45b7b9fa7c272da2e1d7</td>\n",
       "    </tr>\n",
       "    <tr>\n",
       "      <th>2</th>\n",
       "      <td>2</td>\n",
       "      <td>e2127556f4f64592b11af22de27a7932</td>\n",
       "      <td>offer received</td>\n",
       "      <td>{'offer id': '2906b810c7d4411798c6938adc9daaa5'}</td>\n",
       "      <td>0</td>\n",
       "      <td>offer id</td>\n",
       "      <td>2906b810c7d4411798c6938adc9daaa5</td>\n",
       "    </tr>\n",
       "    <tr>\n",
       "      <th>3</th>\n",
       "      <td>3</td>\n",
       "      <td>8ec6ce2a7e7949b1bf142def7d0e0586</td>\n",
       "      <td>offer received</td>\n",
       "      <td>{'offer id': 'fafdcd668e3743c1bb461111dcafc2a4'}</td>\n",
       "      <td>0</td>\n",
       "      <td>offer id</td>\n",
       "      <td>fafdcd668e3743c1bb461111dcafc2a4</td>\n",
       "    </tr>\n",
       "    <tr>\n",
       "      <th>4</th>\n",
       "      <td>4</td>\n",
       "      <td>68617ca6246f4fbc85e91a2a49552598</td>\n",
       "      <td>offer received</td>\n",
       "      <td>{'offer id': '4d5c57ea9a6940dd891ad53e9dbe8da0'}</td>\n",
       "      <td>0</td>\n",
       "      <td>offer id</td>\n",
       "      <td>4d5c57ea9a6940dd891ad53e9dbe8da0</td>\n",
       "    </tr>\n",
       "    <tr>\n",
       "      <th>...</th>\n",
       "      <td>...</td>\n",
       "      <td>...</td>\n",
       "      <td>...</td>\n",
       "      <td>...</td>\n",
       "      <td>...</td>\n",
       "      <td>...</td>\n",
       "      <td>...</td>\n",
       "    </tr>\n",
       "    <tr>\n",
       "      <th>306529</th>\n",
       "      <td>306529</td>\n",
       "      <td>b3a1272bc9904337b331bf348c3e8c17</td>\n",
       "      <td>transaction</td>\n",
       "      <td>{'amount': 1.5899999999999999}</td>\n",
       "      <td>714</td>\n",
       "      <td>amount</td>\n",
       "      <td>1.59</td>\n",
       "    </tr>\n",
       "    <tr>\n",
       "      <th>306530</th>\n",
       "      <td>306530</td>\n",
       "      <td>68213b08d99a4ae1b0dcb72aebd9aa35</td>\n",
       "      <td>transaction</td>\n",
       "      <td>{'amount': 9.53}</td>\n",
       "      <td>714</td>\n",
       "      <td>amount</td>\n",
       "      <td>9.53</td>\n",
       "    </tr>\n",
       "    <tr>\n",
       "      <th>306531</th>\n",
       "      <td>306531</td>\n",
       "      <td>a00058cf10334a308c68e7631c529907</td>\n",
       "      <td>transaction</td>\n",
       "      <td>{'amount': 3.61}</td>\n",
       "      <td>714</td>\n",
       "      <td>amount</td>\n",
       "      <td>3.61</td>\n",
       "    </tr>\n",
       "    <tr>\n",
       "      <th>306532</th>\n",
       "      <td>306532</td>\n",
       "      <td>76ddbd6576844afe811f1a3c0fbb5bec</td>\n",
       "      <td>transaction</td>\n",
       "      <td>{'amount': 3.5300000000000002}</td>\n",
       "      <td>714</td>\n",
       "      <td>amount</td>\n",
       "      <td>3.53</td>\n",
       "    </tr>\n",
       "    <tr>\n",
       "      <th>306533</th>\n",
       "      <td>306533</td>\n",
       "      <td>c02b10e8752c4d8e9b73f918558531f7</td>\n",
       "      <td>transaction</td>\n",
       "      <td>{'amount': 4.05}</td>\n",
       "      <td>714</td>\n",
       "      <td>amount</td>\n",
       "      <td>4.05</td>\n",
       "    </tr>\n",
       "  </tbody>\n",
       "</table>\n",
       "<p>306534 rows × 7 columns</p>\n",
       "</div>"
      ],
      "text/plain": [
       "        Unnamed: 0                            person           event  \\\n",
       "0                0  78afa995795e4d85b5d9ceeca43f5fef  offer received   \n",
       "1                1  a03223e636434f42ac4c3df47e8bac43  offer received   \n",
       "2                2  e2127556f4f64592b11af22de27a7932  offer received   \n",
       "3                3  8ec6ce2a7e7949b1bf142def7d0e0586  offer received   \n",
       "4                4  68617ca6246f4fbc85e91a2a49552598  offer received   \n",
       "...            ...                               ...             ...   \n",
       "306529      306529  b3a1272bc9904337b331bf348c3e8c17     transaction   \n",
       "306530      306530  68213b08d99a4ae1b0dcb72aebd9aa35     transaction   \n",
       "306531      306531  a00058cf10334a308c68e7631c529907     transaction   \n",
       "306532      306532  76ddbd6576844afe811f1a3c0fbb5bec     transaction   \n",
       "306533      306533  c02b10e8752c4d8e9b73f918558531f7     transaction   \n",
       "\n",
       "                                                   value  time value_key  \\\n",
       "0       {'offer id': '9b98b8c7a33c4b65b9aebfe6a799e6d9'}     0  offer id   \n",
       "1       {'offer id': '0b1e1539f2cc45b7b9fa7c272da2e1d7'}     0  offer id   \n",
       "2       {'offer id': '2906b810c7d4411798c6938adc9daaa5'}     0  offer id   \n",
       "3       {'offer id': 'fafdcd668e3743c1bb461111dcafc2a4'}     0  offer id   \n",
       "4       {'offer id': '4d5c57ea9a6940dd891ad53e9dbe8da0'}     0  offer id   \n",
       "...                                                  ...   ...       ...   \n",
       "306529                    {'amount': 1.5899999999999999}   714    amount   \n",
       "306530                                  {'amount': 9.53}   714    amount   \n",
       "306531                                  {'amount': 3.61}   714    amount   \n",
       "306532                    {'amount': 3.5300000000000002}   714    amount   \n",
       "306533                                  {'amount': 4.05}   714    amount   \n",
       "\n",
       "                             value_value  \n",
       "0       9b98b8c7a33c4b65b9aebfe6a799e6d9  \n",
       "1       0b1e1539f2cc45b7b9fa7c272da2e1d7  \n",
       "2       2906b810c7d4411798c6938adc9daaa5  \n",
       "3       fafdcd668e3743c1bb461111dcafc2a4  \n",
       "4       4d5c57ea9a6940dd891ad53e9dbe8da0  \n",
       "...                                  ...  \n",
       "306529                              1.59  \n",
       "306530                              9.53  \n",
       "306531                              3.61  \n",
       "306532                              3.53  \n",
       "306533                              4.05  \n",
       "\n",
       "[306534 rows x 7 columns]"
      ]
     },
     "execution_count": 57,
     "metadata": {},
     "output_type": "execute_result"
    }
   ],
   "source": [
    "# event에 따른 value의 차이 확인\n",
    "transcript[\"value_key\"] = transcript.value.apply(lambda x:list(x.keys())[0])\n",
    "transcript[\"value_value\"] = transcript.value.apply(lambda x:list(x.values())[0])\n",
    "transcript"
   ]
  },
  {
   "cell_type": "code",
   "execution_count": 58,
   "metadata": {},
   "outputs": [
    {
     "data": {
      "image/png": "[encoded data removed]",
      "text/plain": [
       "<Figure size 576x432 with 1 Axes>"
      ]
     },
     "metadata": {
      "needs_background": "light"
     },
     "output_type": "display_data"
    }
   ],
   "source": [
    "plt.figure(figsize=(8, 6))\n",
    "sns.countplot(data=transcript, x=\"value_key\")\n",
    "plt.show()"
   ]
  },
  {
   "cell_type": "code",
   "execution_count": 59,
   "metadata": {},
   "outputs": [
    {
     "data": {
      "text/plain": [
       "fafdcd668e3743c1bb461111dcafc2a4    20241\n",
       "2298d6c36e964ae4a3e7e9706d1fb8c2    20139\n",
       "f19421c1d4aa40978ebb69ca19b0e20d    19131\n",
       "4d5c57ea9a6940dd891ad53e9dbe8da0    18222\n",
       "ae264e3637204a6fb9bb56bc8210ddfd    18062\n",
       "                                    ...  \n",
       "635.06                                  1\n",
       "42.51                                   1\n",
       "124.03                                  1\n",
       "40.49                                   1\n",
       "476.33                                  1\n",
       "Name: value_value, Length: 5113, dtype: int64"
      ]
     },
     "execution_count": 59,
     "metadata": {},
     "output_type": "execute_result"
    }
   ],
   "source": [
    "transcript.value_value.value_counts()"
   ]
  },
  {
   "cell_type": "code",
   "execution_count": 60,
   "metadata": {},
   "outputs": [
    {
     "data": {
      "text/html": [
       "<div>\n",
       "<style scoped>\n",
       "    .dataframe tbody tr th:only-of-type {\n",
       "        vertical-align: middle;\n",
       "    }\n",
       "\n",
       "    .dataframe tbody tr th {\n",
       "        vertical-align: top;\n",
       "    }\n",
       "\n",
       "    .dataframe thead th {\n",
       "        text-align: right;\n",
       "    }\n",
       "</style>\n",
       "<table border=\"1\" class=\"dataframe\">\n",
       "  <thead>\n",
       "    <tr style=\"text-align: right;\">\n",
       "      <th></th>\n",
       "      <th>id</th>\n",
       "    </tr>\n",
       "  </thead>\n",
       "  <tbody>\n",
       "    <tr>\n",
       "      <th>0</th>\n",
       "      <td>9b98b8c7a33c4b65b9aebfe6a799e6d9</td>\n",
       "    </tr>\n",
       "    <tr>\n",
       "      <th>1</th>\n",
       "      <td>0b1e1539f2cc45b7b9fa7c272da2e1d7</td>\n",
       "    </tr>\n",
       "    <tr>\n",
       "      <th>2</th>\n",
       "      <td>2906b810c7d4411798c6938adc9daaa5</td>\n",
       "    </tr>\n",
       "    <tr>\n",
       "      <th>3</th>\n",
       "      <td>fafdcd668e3743c1bb461111dcafc2a4</td>\n",
       "    </tr>\n",
       "    <tr>\n",
       "      <th>4</th>\n",
       "      <td>4d5c57ea9a6940dd891ad53e9dbe8da0</td>\n",
       "    </tr>\n",
       "    <tr>\n",
       "      <th>...</th>\n",
       "      <td>...</td>\n",
       "    </tr>\n",
       "    <tr>\n",
       "      <th>167576</th>\n",
       "      <td>2298d6c36e964ae4a3e7e9706d1fb8c2</td>\n",
       "    </tr>\n",
       "    <tr>\n",
       "      <th>167577</th>\n",
       "      <td>fafdcd668e3743c1bb461111dcafc2a4</td>\n",
       "    </tr>\n",
       "    <tr>\n",
       "      <th>167578</th>\n",
       "      <td>0b1e1539f2cc45b7b9fa7c272da2e1d7</td>\n",
       "    </tr>\n",
       "    <tr>\n",
       "      <th>167579</th>\n",
       "      <td>fafdcd668e3743c1bb461111dcafc2a4</td>\n",
       "    </tr>\n",
       "    <tr>\n",
       "      <th>167580</th>\n",
       "      <td>fafdcd668e3743c1bb461111dcafc2a4</td>\n",
       "    </tr>\n",
       "  </tbody>\n",
       "</table>\n",
       "<p>167581 rows × 1 columns</p>\n",
       "</div>"
      ],
      "text/plain": [
       "                                      id\n",
       "0       9b98b8c7a33c4b65b9aebfe6a799e6d9\n",
       "1       0b1e1539f2cc45b7b9fa7c272da2e1d7\n",
       "2       2906b810c7d4411798c6938adc9daaa5\n",
       "3       fafdcd668e3743c1bb461111dcafc2a4\n",
       "4       4d5c57ea9a6940dd891ad53e9dbe8da0\n",
       "...                                  ...\n",
       "167576  2298d6c36e964ae4a3e7e9706d1fb8c2\n",
       "167577  fafdcd668e3743c1bb461111dcafc2a4\n",
       "167578  0b1e1539f2cc45b7b9fa7c272da2e1d7\n",
       "167579  fafdcd668e3743c1bb461111dcafc2a4\n",
       "167580  fafdcd668e3743c1bb461111dcafc2a4\n",
       "\n",
       "[167581 rows x 1 columns]"
      ]
     },
     "execution_count": 60,
     "metadata": {},
     "output_type": "execute_result"
    }
   ],
   "source": [
    "temp = transcript.loc[transcript.value_key != \"amount\", \"value_value\"]\n",
    "temp_df = pd.DataFrame({\"id\" : temp.values})\n",
    "temp_df"
   ]
  },
  {
   "cell_type": "code",
   "execution_count": 61,
   "metadata": {},
   "outputs": [
    {
     "data": {
      "text/plain": [
       "fafdcd668e3743c1bb461111dcafc2a4    20241\n",
       "2298d6c36e964ae4a3e7e9706d1fb8c2    20139\n",
       "f19421c1d4aa40978ebb69ca19b0e20d    19131\n",
       "4d5c57ea9a6940dd891ad53e9dbe8da0    18222\n",
       "ae264e3637204a6fb9bb56bc8210ddfd    18062\n",
       "9b98b8c7a33c4b65b9aebfe6a799e6d9    16202\n",
       "2906b810c7d4411798c6938adc9daaa5    15767\n",
       "5a8bc65990b245e5a138643cd4eb9837    14305\n",
       "0b1e1539f2cc45b7b9fa7c272da2e1d7    13751\n",
       "3f207df678b143eea3cee63160fa8bed    11761\n",
       "Name: value_value, dtype: int64"
      ]
     },
     "execution_count": 61,
     "metadata": {},
     "output_type": "execute_result"
    }
   ],
   "source": [
    "temp.value_counts()"
   ]
  },
  {
   "cell_type": "code",
   "execution_count": 62,
   "metadata": {},
   "outputs": [
    {
     "data": {
      "text/html": [
       "<div>\n",
       "<style scoped>\n",
       "    .dataframe tbody tr th:only-of-type {\n",
       "        vertical-align: middle;\n",
       "    }\n",
       "\n",
       "    .dataframe tbody tr th {\n",
       "        vertical-align: top;\n",
       "    }\n",
       "\n",
       "    .dataframe thead th {\n",
       "        text-align: right;\n",
       "    }\n",
       "</style>\n",
       "<table border=\"1\" class=\"dataframe\">\n",
       "  <thead>\n",
       "    <tr style=\"text-align: right;\">\n",
       "      <th></th>\n",
       "      <th>id</th>\n",
       "      <th>Unnamed: 0</th>\n",
       "      <th>reward</th>\n",
       "      <th>channels</th>\n",
       "      <th>difficulty</th>\n",
       "      <th>duration</th>\n",
       "      <th>offer_type</th>\n",
       "    </tr>\n",
       "  </thead>\n",
       "  <tbody>\n",
       "    <tr>\n",
       "      <th>0</th>\n",
       "      <td>9b98b8c7a33c4b65b9aebfe6a799e6d9</td>\n",
       "      <td>3</td>\n",
       "      <td>5</td>\n",
       "      <td>['web', 'email', 'mobile']</td>\n",
       "      <td>5</td>\n",
       "      <td>7</td>\n",
       "      <td>bogo</td>\n",
       "    </tr>\n",
       "    <tr>\n",
       "      <th>1</th>\n",
       "      <td>0b1e1539f2cc45b7b9fa7c272da2e1d7</td>\n",
       "      <td>4</td>\n",
       "      <td>5</td>\n",
       "      <td>['web', 'email']</td>\n",
       "      <td>20</td>\n",
       "      <td>10</td>\n",
       "      <td>discount</td>\n",
       "    </tr>\n",
       "    <tr>\n",
       "      <th>2</th>\n",
       "      <td>2906b810c7d4411798c6938adc9daaa5</td>\n",
       "      <td>9</td>\n",
       "      <td>2</td>\n",
       "      <td>['web', 'email', 'mobile']</td>\n",
       "      <td>10</td>\n",
       "      <td>7</td>\n",
       "      <td>discount</td>\n",
       "    </tr>\n",
       "    <tr>\n",
       "      <th>3</th>\n",
       "      <td>fafdcd668e3743c1bb461111dcafc2a4</td>\n",
       "      <td>6</td>\n",
       "      <td>2</td>\n",
       "      <td>['web', 'email', 'mobile', 'social']</td>\n",
       "      <td>10</td>\n",
       "      <td>10</td>\n",
       "      <td>discount</td>\n",
       "    </tr>\n",
       "    <tr>\n",
       "      <th>4</th>\n",
       "      <td>4d5c57ea9a6940dd891ad53e9dbe8da0</td>\n",
       "      <td>1</td>\n",
       "      <td>10</td>\n",
       "      <td>['web', 'email', 'mobile', 'social']</td>\n",
       "      <td>10</td>\n",
       "      <td>5</td>\n",
       "      <td>bogo</td>\n",
       "    </tr>\n",
       "    <tr>\n",
       "      <th>...</th>\n",
       "      <td>...</td>\n",
       "      <td>...</td>\n",
       "      <td>...</td>\n",
       "      <td>...</td>\n",
       "      <td>...</td>\n",
       "      <td>...</td>\n",
       "      <td>...</td>\n",
       "    </tr>\n",
       "    <tr>\n",
       "      <th>167576</th>\n",
       "      <td>2298d6c36e964ae4a3e7e9706d1fb8c2</td>\n",
       "      <td>5</td>\n",
       "      <td>3</td>\n",
       "      <td>['web', 'email', 'mobile', 'social']</td>\n",
       "      <td>7</td>\n",
       "      <td>7</td>\n",
       "      <td>discount</td>\n",
       "    </tr>\n",
       "    <tr>\n",
       "      <th>167577</th>\n",
       "      <td>fafdcd668e3743c1bb461111dcafc2a4</td>\n",
       "      <td>6</td>\n",
       "      <td>2</td>\n",
       "      <td>['web', 'email', 'mobile', 'social']</td>\n",
       "      <td>10</td>\n",
       "      <td>10</td>\n",
       "      <td>discount</td>\n",
       "    </tr>\n",
       "    <tr>\n",
       "      <th>167578</th>\n",
       "      <td>0b1e1539f2cc45b7b9fa7c272da2e1d7</td>\n",
       "      <td>4</td>\n",
       "      <td>5</td>\n",
       "      <td>['web', 'email']</td>\n",
       "      <td>20</td>\n",
       "      <td>10</td>\n",
       "      <td>discount</td>\n",
       "    </tr>\n",
       "    <tr>\n",
       "      <th>167579</th>\n",
       "      <td>fafdcd668e3743c1bb461111dcafc2a4</td>\n",
       "      <td>6</td>\n",
       "      <td>2</td>\n",
       "      <td>['web', 'email', 'mobile', 'social']</td>\n",
       "      <td>10</td>\n",
       "      <td>10</td>\n",
       "      <td>discount</td>\n",
       "    </tr>\n",
       "    <tr>\n",
       "      <th>167580</th>\n",
       "      <td>fafdcd668e3743c1bb461111dcafc2a4</td>\n",
       "      <td>6</td>\n",
       "      <td>2</td>\n",
       "      <td>['web', 'email', 'mobile', 'social']</td>\n",
       "      <td>10</td>\n",
       "      <td>10</td>\n",
       "      <td>discount</td>\n",
       "    </tr>\n",
       "  </tbody>\n",
       "</table>\n",
       "<p>167581 rows × 7 columns</p>\n",
       "</div>"
      ],
      "text/plain": [
       "                                      id  Unnamed: 0  reward  \\\n",
       "0       9b98b8c7a33c4b65b9aebfe6a799e6d9           3       5   \n",
       "1       0b1e1539f2cc45b7b9fa7c272da2e1d7           4       5   \n",
       "2       2906b810c7d4411798c6938adc9daaa5           9       2   \n",
       "3       fafdcd668e3743c1bb461111dcafc2a4           6       2   \n",
       "4       4d5c57ea9a6940dd891ad53e9dbe8da0           1      10   \n",
       "...                                  ...         ...     ...   \n",
       "167576  2298d6c36e964ae4a3e7e9706d1fb8c2           5       3   \n",
       "167577  fafdcd668e3743c1bb461111dcafc2a4           6       2   \n",
       "167578  0b1e1539f2cc45b7b9fa7c272da2e1d7           4       5   \n",
       "167579  fafdcd668e3743c1bb461111dcafc2a4           6       2   \n",
       "167580  fafdcd668e3743c1bb461111dcafc2a4           6       2   \n",
       "\n",
       "                                    channels  difficulty  duration offer_type  \n",
       "0                 ['web', 'email', 'mobile']           5         7       bogo  \n",
       "1                           ['web', 'email']          20        10   discount  \n",
       "2                 ['web', 'email', 'mobile']          10         7   discount  \n",
       "3       ['web', 'email', 'mobile', 'social']          10        10   discount  \n",
       "4       ['web', 'email', 'mobile', 'social']          10         5       bogo  \n",
       "...                                      ...         ...       ...        ...  \n",
       "167576  ['web', 'email', 'mobile', 'social']           7         7   discount  \n",
       "167577  ['web', 'email', 'mobile', 'social']          10        10   discount  \n",
       "167578                      ['web', 'email']          20        10   discount  \n",
       "167579  ['web', 'email', 'mobile', 'social']          10        10   discount  \n",
       "167580  ['web', 'email', 'mobile', 'social']          10        10   discount  \n",
       "\n",
       "[167581 rows x 7 columns]"
      ]
     },
     "execution_count": 62,
     "metadata": {},
     "output_type": "execute_result"
    }
   ],
   "source": [
    "temp_portfolio = pd.merge(temp_df, portfolio, how=\"left\", on=\"id\")\n",
    "temp_portfolio"
   ]
  },
  {
   "cell_type": "code",
   "execution_count": 63,
   "metadata": {},
   "outputs": [
    {
     "data": {
      "image/png": "[encoded data removed]",
      "text/plain": [
       "<Figure size 864x432 with 1 Axes>"
      ]
     },
     "metadata": {
      "needs_background": "light"
     },
     "output_type": "display_data"
    }
   ],
   "source": [
    "plt.figure(figsize=(12, 6))\n",
    "sns.countplot(data=temp_portfolio, x=\"channels\", palette=\"Set2\")\n",
    "plt.show()"
   ]
  },
  {
   "cell_type": "code",
   "execution_count": null,
   "metadata": {},
   "outputs": [],
   "source": []
  }
 ],
 "metadata": {
  "colab": {
   "authorship_tag": "ABX9TyPeHiPUkV4YaywoZNm2ZLXs",
   "name": "Starbuck Survey EDA.ipynb",
   "private_outputs": true,
   "provenance": []
  },
  "kernelspec": {
   "display_name": "Python 3",
   "language": "python",
   "name": "python3"
  },
  "language_info": {
   "codemirror_mode": {
    "name": "ipython",
    "version": 3
   },
   "file_extension": ".py",
   "mimetype": "text/x-python",
   "name": "python",
   "nbconvert_exporter": "python",
   "pygments_lexer": "ipython3",
   "version": "3.9.6"
  }
 },
 "nbformat": 4,
 "nbformat_minor": 1
}
